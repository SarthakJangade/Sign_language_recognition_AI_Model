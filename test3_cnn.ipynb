{
 "cells": [
  {
   "cell_type": "code",
   "execution_count": 5,
   "metadata": {},
   "outputs": [
    {
     "name": "stdout",
     "output_type": "stream",
     "text": [
      "WARNING:tensorflow:From C:\\Users\\HP\\AppData\\Roaming\\Python\\Python311\\site-packages\\keras\\src\\losses.py:2976: The name tf.losses.sparse_softmax_cross_entropy is deprecated. Please use tf.compat.v1.losses.sparse_softmax_cross_entropy instead.\n",
      "\n"
     ]
    }
   ],
   "source": [
    "import keras\n",
    "import numpy as np\n",
    "import pandas as pd\n",
    "import cv2\n",
    "from matplotlib import pyplot as plt\n",
    "from keras.models import Sequential \n",
    "from keras.layers import Conv2D,MaxPooling2D, Dense,Flatten, Dropout\n",
    "from keras.datasets import mnist \n",
    "import matplotlib.pyplot as plt\n",
    "from keras.optimizers import SGD\n"
   ]
  },
  {
   "cell_type": "code",
   "execution_count": 6,
   "metadata": {},
   "outputs": [],
   "source": [
    "train = pd.read_csv('D:\\Sign Language Recognization\\sign_mnist_train.csv')\n",
    "test = pd.read_csv('D:\\Sign Language Recognization\\sign_mnist_test.csv')"
   ]
  },
  {
   "cell_type": "code",
   "execution_count": 7,
   "metadata": {},
   "outputs": [],
   "source": [
    "y_train = train['label'].values\n",
    "y_test = test['label'].values\n",
    "\n",
    "X_train = train.drop(['label'],axis=1)\n",
    "X_test = test.drop(['label'], axis=1)\n",
    "\n",
    "X_train = np.array(X_train.iloc[:,:])\n",
    "X_train = np.array([np.reshape(i, (28,28)) for i in X_train])\n",
    "\n",
    "X_test = np.array(X_test.iloc[:,:])\n",
    "X_test = np.array([np.reshape(i, (28,28)) for i in X_test])\n",
    "\n",
    "num_classes = 26\n",
    "y_train = np.array(y_train).reshape(-1)\n",
    "y_test = np.array(y_test).reshape(-1)\n",
    "\n",
    "y_train = np.eye(num_classes)[y_train]\n",
    "y_test = np.eye(num_classes)[y_test]"
   ]
  },
  {
   "cell_type": "code",
   "execution_count": 8,
   "metadata": {},
   "outputs": [],
   "source": [
    "\n",
    "X_train = X_train.reshape((27455, 28, 28, 1))\n",
    "X_test = X_test.reshape((7172, 28, 28, 1))"
   ]
  },
  {
   "cell_type": "code",
   "execution_count": 9,
   "metadata": {},
   "outputs": [
    {
     "name": "stdout",
     "output_type": "stream",
     "text": [
      "WARNING:tensorflow:From C:\\Users\\HP\\AppData\\Roaming\\Python\\Python311\\site-packages\\keras\\src\\backend.py:873: The name tf.get_default_graph is deprecated. Please use tf.compat.v1.get_default_graph instead.\n",
      "\n",
      "WARNING:tensorflow:From C:\\Users\\HP\\AppData\\Roaming\\Python\\Python311\\site-packages\\keras\\src\\layers\\pooling\\max_pooling2d.py:161: The name tf.nn.max_pool is deprecated. Please use tf.nn.max_pool2d instead.\n",
      "\n",
      "WARNING:tensorflow:From C:\\Users\\HP\\AppData\\Roaming\\Python\\Python311\\site-packages\\keras\\src\\optimizers\\__init__.py:309: The name tf.train.Optimizer is deprecated. Please use tf.compat.v1.train.Optimizer instead.\n",
      "\n"
     ]
    }
   ],
   "source": [
    "classifier = Sequential()\n",
    "classifier.add(Conv2D(filters=8, kernel_size=(3,3),strides=(1,1),padding='same',input_shape=(28,28,1),activation='relu', data_format='channels_last'))\n",
    "classifier.add(MaxPooling2D(pool_size=(2,2)))\n",
    "classifier.add(Conv2D(filters=16, kernel_size=(3,3),strides=(1,1),padding='same',activation='relu'))\n",
    "classifier.add(Dropout(0.5))\n",
    "classifier.add(MaxPooling2D(pool_size=(4,4)))\n",
    "classifier.add(Dense(128, activation='relu'))\n",
    "classifier.add(Flatten())\n",
    "classifier.add(Dense(26, activation='softmax'))\n",
    "classifier.compile(optimizer='SGD', loss='categorical_crossentropy', metrics=['accuracy'])"
   ]
  },
  {
   "cell_type": "code",
   "execution_count": 10,
   "metadata": {},
   "outputs": [
    {
     "name": "stdout",
     "output_type": "stream",
     "text": [
      "Epoch 1/50\n",
      "WARNING:tensorflow:From C:\\Users\\HP\\AppData\\Roaming\\Python\\Python311\\site-packages\\keras\\src\\utils\\tf_utils.py:492: The name tf.ragged.RaggedTensorValue is deprecated. Please use tf.compat.v1.ragged.RaggedTensorValue instead.\n",
      "\n",
      "WARNING:tensorflow:From C:\\Users\\HP\\AppData\\Roaming\\Python\\Python311\\site-packages\\keras\\src\\engine\\base_layer_utils.py:384: The name tf.executing_eagerly_outside_functions is deprecated. Please use tf.compat.v1.executing_eagerly_outside_functions instead.\n",
      "\n",
      "275/275 [==============================] - 7s 16ms/step - loss: 3.6047 - accuracy: 0.4450\n",
      "Epoch 2/50\n",
      "275/275 [==============================] - 4s 13ms/step - loss: 0.6664 - accuracy: 0.7763\n",
      "Epoch 3/50\n",
      "275/275 [==============================] - 5s 17ms/step - loss: 0.4313 - accuracy: 0.8500\n",
      "Epoch 4/50\n",
      "275/275 [==============================] - 4s 13ms/step - loss: 0.3143 - accuracy: 0.8921\n",
      "Epoch 5/50\n",
      "275/275 [==============================] - 4s 16ms/step - loss: 0.2609 - accuracy: 0.9091\n",
      "Epoch 6/50\n",
      "275/275 [==============================] - 4s 14ms/step - loss: 0.2224 - accuracy: 0.9238\n",
      "Epoch 7/50\n",
      "275/275 [==============================] - 4s 15ms/step - loss: 0.1930 - accuracy: 0.9336\n",
      "Epoch 8/50\n",
      "275/275 [==============================] - 4s 14ms/step - loss: 0.1717 - accuracy: 0.9402\n",
      "Epoch 9/50\n",
      "275/275 [==============================] - 4s 13ms/step - loss: 0.1539 - accuracy: 0.9461\n",
      "Epoch 10/50\n",
      "275/275 [==============================] - 4s 13ms/step - loss: 0.1369 - accuracy: 0.9517\n",
      "Epoch 11/50\n",
      "275/275 [==============================] - 4s 14ms/step - loss: 0.1293 - accuracy: 0.9548\n",
      "Epoch 12/50\n",
      "275/275 [==============================] - 4s 15ms/step - loss: 0.1194 - accuracy: 0.9588\n",
      "Epoch 13/50\n",
      "275/275 [==============================] - 4s 13ms/step - loss: 0.1220 - accuracy: 0.9578\n",
      "Epoch 14/50\n",
      "275/275 [==============================] - 4s 13ms/step - loss: 0.0976 - accuracy: 0.9671\n",
      "Epoch 15/50\n",
      "275/275 [==============================] - 3s 12ms/step - loss: 0.1077 - accuracy: 0.9626\n",
      "Epoch 16/50\n",
      "275/275 [==============================] - 4s 13ms/step - loss: 0.0922 - accuracy: 0.9681\n",
      "Epoch 17/50\n",
      "275/275 [==============================] - 4s 13ms/step - loss: 0.0943 - accuracy: 0.9688\n",
      "Epoch 18/50\n",
      "275/275 [==============================] - 4s 14ms/step - loss: 0.0925 - accuracy: 0.9689\n",
      "Epoch 19/50\n",
      "275/275 [==============================] - 4s 14ms/step - loss: 0.0840 - accuracy: 0.9724\n",
      "Epoch 20/50\n",
      "275/275 [==============================] - 3s 12ms/step - loss: 0.0784 - accuracy: 0.9738\n",
      "Epoch 21/50\n",
      "275/275 [==============================] - 4s 13ms/step - loss: 0.0729 - accuracy: 0.9760\n",
      "Epoch 22/50\n",
      "275/275 [==============================] - 4s 13ms/step - loss: 0.0711 - accuracy: 0.9764\n",
      "Epoch 23/50\n",
      "275/275 [==============================] - 3s 13ms/step - loss: 0.0799 - accuracy: 0.9735\n",
      "Epoch 24/50\n",
      "275/275 [==============================] - 3s 13ms/step - loss: 0.0749 - accuracy: 0.9755\n",
      "Epoch 25/50\n",
      "275/275 [==============================] - 4s 14ms/step - loss: 0.0700 - accuracy: 0.9773\n",
      "Epoch 26/50\n",
      "275/275 [==============================] - 3s 12ms/step - loss: 0.0629 - accuracy: 0.9794\n",
      "Epoch 27/50\n",
      "275/275 [==============================] - 4s 16ms/step - loss: 0.0737 - accuracy: 0.9764\n",
      "Epoch 28/50\n",
      "275/275 [==============================] - 5s 17ms/step - loss: 0.0686 - accuracy: 0.9784\n",
      "Epoch 29/50\n",
      "275/275 [==============================] - 262s 955ms/step - loss: 0.0668 - accuracy: 0.9785\n",
      "Epoch 30/50\n",
      "275/275 [==============================] - 7s 24ms/step - loss: 0.0561 - accuracy: 0.9817\n",
      "Epoch 31/50\n",
      "275/275 [==============================] - 5s 20ms/step - loss: 0.0515 - accuracy: 0.9835\n",
      "Epoch 32/50\n",
      "275/275 [==============================] - 5s 17ms/step - loss: 0.0533 - accuracy: 0.9833\n",
      "Epoch 33/50\n",
      "275/275 [==============================] - 6s 20ms/step - loss: 0.0570 - accuracy: 0.9810\n",
      "Epoch 34/50\n",
      "275/275 [==============================] - 5s 18ms/step - loss: 0.0588 - accuracy: 0.9813\n",
      "Epoch 35/50\n",
      "275/275 [==============================] - 4s 16ms/step - loss: 0.0546 - accuracy: 0.9827\n",
      "Epoch 36/50\n",
      "275/275 [==============================] - 4s 16ms/step - loss: 0.0645 - accuracy: 0.9804\n",
      "Epoch 37/50\n",
      "275/275 [==============================] - 5s 17ms/step - loss: 0.0441 - accuracy: 0.9863\n",
      "Epoch 38/50\n",
      "275/275 [==============================] - 5s 17ms/step - loss: 0.0512 - accuracy: 0.9842\n",
      "Epoch 39/50\n",
      "275/275 [==============================] - 5s 17ms/step - loss: 0.0389 - accuracy: 0.9871\n",
      "Epoch 40/50\n",
      "275/275 [==============================] - 4s 15ms/step - loss: 0.0498 - accuracy: 0.9840\n",
      "Epoch 41/50\n",
      "275/275 [==============================] - 4s 14ms/step - loss: 0.0525 - accuracy: 0.9840\n",
      "Epoch 42/50\n",
      "275/275 [==============================] - 4s 14ms/step - loss: 0.0455 - accuracy: 0.9865\n",
      "Epoch 43/50\n",
      "275/275 [==============================] - 4s 14ms/step - loss: 0.0450 - accuracy: 0.9860\n",
      "Epoch 44/50\n",
      "275/275 [==============================] - 4s 14ms/step - loss: 0.0374 - accuracy: 0.9885\n",
      "Epoch 45/50\n",
      "275/275 [==============================] - 3s 12ms/step - loss: 0.0429 - accuracy: 0.9868\n",
      "Epoch 46/50\n",
      "275/275 [==============================] - 3s 13ms/step - loss: 0.0517 - accuracy: 0.9851\n",
      "Epoch 47/50\n",
      "275/275 [==============================] - 4s 16ms/step - loss: 0.0502 - accuracy: 0.9838\n",
      "Epoch 48/50\n",
      "275/275 [==============================] - 4s 15ms/step - loss: 0.0448 - accuracy: 0.9856\n",
      "Epoch 49/50\n",
      "275/275 [==============================] - 4s 14ms/step - loss: 0.0421 - accuracy: 0.9869\n",
      "Epoch 50/50\n",
      "275/275 [==============================] - 4s 14ms/step - loss: 0.0439 - accuracy: 0.9862\n"
     ]
    },
    {
     "data": {
      "text/plain": [
       "<keras.src.callbacks.History at 0x23417b5c1d0>"
      ]
     },
     "execution_count": 10,
     "metadata": {},
     "output_type": "execute_result"
    }
   ],
   "source": [
    "\n",
    "classifier.compile(loss='categorical_crossentropy', optimizer='adam', metrics=['accuracy'])\n",
    "classifier.fit(X_train, y_train, epochs=50, batch_size=100)\n"
   ]
  },
  {
   "cell_type": "code",
   "execution_count": 11,
   "metadata": {},
   "outputs": [
    {
     "name": "stdout",
     "output_type": "stream",
     "text": [
      "225/225 [==============================] - 1s 2ms/step - loss: 0.3629 - accuracy: 0.9226\n",
      "Accuracy:  0.9226157069206238\n"
     ]
    }
   ],
   "source": [
    "accuracy = classifier.evaluate(x=X_test,y=y_test,batch_size=32)\n",
    "print(\"Accuracy: \",accuracy[1])"
   ]
  },
  {
   "cell_type": "code",
   "execution_count": 12,
   "metadata": {},
   "outputs": [
    {
     "name": "stdout",
     "output_type": "stream",
     "text": [
      "Model: \"sequential\"\n",
      "_________________________________________________________________\n",
      " Layer (type)                Output Shape              Param #   \n",
      "=================================================================\n",
      " conv2d (Conv2D)             (None, 28, 28, 8)         80        \n",
      "                                                                 \n",
      " max_pooling2d (MaxPooling2  (None, 14, 14, 8)         0         \n",
      " D)                                                              \n",
      "                                                                 \n",
      " conv2d_1 (Conv2D)           (None, 14, 14, 16)        1168      \n",
      "                                                                 \n",
      " dropout (Dropout)           (None, 14, 14, 16)        0         \n",
      "                                                                 \n",
      " max_pooling2d_1 (MaxPoolin  (None, 3, 3, 16)          0         \n",
      " g2D)                                                            \n",
      "                                                                 \n",
      " dense (Dense)               (None, 3, 3, 128)         2176      \n",
      "                                                                 \n",
      " flatten (Flatten)           (None, 1152)              0         \n",
      "                                                                 \n",
      " dense_1 (Dense)             (None, 26)                29978     \n",
      "                                                                 \n",
      "=================================================================\n",
      "Total params: 33402 (130.48 KB)\n",
      "Trainable params: 33402 (130.48 KB)\n",
      "Non-trainable params: 0 (0.00 Byte)\n",
      "_________________________________________________________________\n"
     ]
    }
   ],
   "source": [
    "classifier.summary()"
   ]
  },
  {
   "cell_type": "code",
   "execution_count": 13,
   "metadata": {},
   "outputs": [
    {
     "name": "stderr",
     "output_type": "stream",
     "text": [
      "C:\\Users\\HP\\AppData\\Roaming\\Python\\Python311\\site-packages\\keras\\src\\engine\\training.py:3103: UserWarning: You are saving your model as an HDF5 file via `model.save()`. This file format is considered legacy. We recommend using instead the native Keras format, e.g. `model.save('my_model.keras')`.\n",
      "  saving_api.save_model(\n"
     ]
    }
   ],
   "source": [
    "classifier.save('CNNmodel.h5')"
   ]
  }
 ],
 "metadata": {
  "kernelspec": {
   "display_name": "Python 3",
   "language": "python",
   "name": "python3"
  },
  "language_info": {
   "codemirror_mode": {
    "name": "ipython",
    "version": 3
   },
   "file_extension": ".py",
   "mimetype": "text/x-python",
   "name": "python",
   "nbconvert_exporter": "python",
   "pygments_lexer": "ipython3",
   "version": "3.11.5"
  }
 },
 "nbformat": 4,
 "nbformat_minor": 2
}
